{
  "nbformat": 4,
  "nbformat_minor": 0,
  "metadata": {
    "colab": {
      "provenance": [],
      "authorship_tag": "ABX9TyNmoSh7DZpdkoWuXB9RaB2y",
      "include_colab_link": true
    },
    "kernelspec": {
      "name": "python3",
      "display_name": "Python 3"
    },
    "language_info": {
      "name": "python"
    }
  },
  "cells": [
    {
      "cell_type": "markdown",
      "metadata": {
        "id": "view-in-github",
        "colab_type": "text"
      },
      "source": [
        "<a href=\"https://colab.research.google.com/github/goku3679/pandas/blob/main/Pandas.ipynb\" target=\"_parent\"><img src=\"https://colab.research.google.com/assets/colab-badge.svg\" alt=\"Open In Colab\"/></a>"
      ]
    },
    {
      "cell_type": "code",
      "execution_count": null,
      "metadata": {
        "id": "rhXenpyZCvGi"
      },
      "outputs": [],
      "source": [
        "#print as numpy\n",
        "import pandas as pd\n",
        "import numpy as np\n",
        "a=np.array([11,99,303,44,55,6])\n",
        "b=np.array([1,2,3,4,5,6])\n",
        "c=a+b\n",
        "d=np.array([\"Abi\",\"Sara\",\"Coulins\",\"Dinesh\",\"Elger\",\"Ganesh\"])\n",
        "print(\"a=\",a)\n",
        "print(\"b=\",b)\n",
        "print(\"c=\",c)\n",
        "print(\"Name=\",d)"
      ]
    },
    {
      "cell_type": "code",
      "source": [
        "#first panda\n",
        "import pandas as pd\n",
        "import numpy as np\n",
        "a=np.array([11,99,303,44,55,6])\n",
        "b=np.array([1,2,3,4,5,6])\n",
        "c=a+b\n",
        "d=np.array([\"Abi\",\"Bala\",\"Coulins\",\"Dinesh\",\"Elger\",\"Ganesh\"])\n",
        "frame={\"Name\":d, \"A\":a, \"B\":b, \"C\":c}\n",
        "g=pd.DataFrame(frame)\n",
        "print(g)\n",
        "g.to_excel('output1.xlsx', index=False)\n",
        "g.to_csv('file1.csv', index=False)"
      ],
      "metadata": {
        "id": "bqEUPX7AC1ji"
      },
      "execution_count": null,
      "outputs": []
    },
    {
      "cell_type": "code",
      "source": [
        "import numpy as np\n",
        "import pandas as pd\n",
        "\n",
        "X = np.array([120,140,160,180,190])\n",
        "Y = np.array([20,40,60,80,90])\n",
        "Z = np.array([125,145,165,185,195])\n",
        "\n",
        "A = X+Y\n",
        "B = X-Y\n",
        "C = X+Z\n",
        "D = Y+Z\n",
        "frame = {\"X\":X,\"Y\":Y,\"Z\":Z,\"X+Y\":A,\"X-Y\":B,\"X+Z\":C,\"Y+Z\":D}\n",
        "G = pd.DataFrame(frame)\n",
        "print(G)\n",
        "G.to_excel('output2.xlsx', index=False)\n",
        "G.to_csv('file2.csv', index=False)"
      ],
      "metadata": {
        "id": "_MJfVI2iC4PY"
      },
      "execution_count": null,
      "outputs": []
    },
    {
      "cell_type": "code",
      "source": [
        "import numpy as np\n",
        "import pandas as pd\n",
        "\n",
        "Company= np.array([\"Rallis India\",\"Aditya Birla SL AMC\",\"Orient Cement Ltd.\",\"SJS Enterprises\",\"UTI AMC\",\"RailTel Corporation\",\"South Indian Ban\",\"Amber Enterprises\",\"HDFC AMC\",\"DCM Shriram\"]);\n",
        "PC = np.array([321.60,698.20,300.25,1013.45,1232.70,408.10,23.95,5163.95,4548.65,1058.40])\n",
        "CP = np.array([362.45,778.65,328.35,1092.40,1326.20,438.75,25.51,5482.90,4813.30,1118.25])\n",
        "Percentage = np.array([12.70,11.52,9.36,7.79,7.58,7.51,6.51,6.18,5.82,5.65])\n",
        "\n",
        "A = PC-CP\n",
        "Diff = np.absolute(A)\n",
        "B = PC/100*10\n",
        "B1 = B+PC\n",
        "C = CP/100*10\n",
        "C1 = C+CP\n",
        "D = B1-C1\n",
        "Diff_10 = np.absolute(D)\n",
        "frame={\"Company\":Company,\"Previous_Close\":PC,\"Current_Value\":CP,\"Percentage\":Percentage,\"Difference\":Diff,\"Previous_Close_10%\":B1,\"Current_Value_10%\":C1,\"Difference_10%\":Diff}\n",
        "E = pd.DataFrame(frame)\n",
        "print(E)\n",
        "E.to_excel('output3.xlsx', index=False)\n",
        "E.to_csv('file3.csv', index=False)"
      ],
      "metadata": {
        "id": "11o6uaU7C7UJ"
      },
      "execution_count": null,
      "outputs": []
    },
    {
      "cell_type": "code",
      "source": [
        "import numpy as np\n",
        "import pandas as pd\n",
        "\n",
        "Company= np.array([\"Rallis India\",\"Aditya Birla SL AMC\",\"Orient Cement Ltd.\",\"SJS Enterprises\",\"UTI AMC\",\"RailTel Corporation\",\"South Indian Ban\",\"Amber Enterprises\",\"HDFC AMC\",\"DCM Shriram\"]);\n",
        "PC = np.array([321.60,698.20,300.25,1013.45,1232.70,408.10,23.95,5163.95,4548.65,1058.40])\n",
        "CP = np.array([362.45,778.65,328.35,1092.40,1326.20,438.75,25.51,5482.90,4813.30,1118.25])\n",
        "Percentage = np.array([12.70,11.52,9.36,7.79,7.58,7.51,6.51,6.18,5.82,5.65])\n",
        "\n",
        "A = PC-CP\n",
        "Diff = np.absolute(A)\n",
        "B = PC/100*10\n",
        "B1 = B+PC\n",
        "C = CP/100*10\n",
        "C1 = C+CP\n",
        "D = B1-C1\n",
        "Diff_10 = np.absolute(D)\n",
        "E = B-PC\n",
        "E = np.absolute(E)\n",
        "F = C-CP\n",
        "F = np.absolute(F)\n",
        "frame={\"Company\":Company,\"Previous_Close\":PC,\"Current_Value\":CP,\"Percentage\":Percentage,\"Difference\":Diff,\"Previous_Close_10%\":B1,\"Current_Value_10%\":C1,\"Difference_10%\":Diff,\"Decreased_PC_10%\":E,\"Decreased_CP_10%\":F}\n",
        "E = pd.DataFrame(frame)\n",
        "print(E)\n",
        "E.to_excel('output4.xlsx', index=False)\n",
        "E.to_csv('file4.csv', index=False)"
      ],
      "metadata": {
        "id": "13I3svFfC-4R"
      },
      "execution_count": null,
      "outputs": []
    },
    {
      "cell_type": "code",
      "source": [
        "import pandas as pd\n",
        "\n",
        "df = pd.read_excel(\"mark.xlsx\")\n",
        "#print(df)\n",
        "information=df.info()\n",
        "print(information)\n",
        "#size=df.size\n",
        "#print(\"Size = \",size)\n",
        "#shape=df.shape\n",
        "#print(\"Shape = \",shape)\n",
        "col = df[[\"Name\",\"Phy\"]]\n",
        "#print(col)\n",
        "D = pd.DataFrame(col)\n",
        "print(D)\n",
        "E = D.to_csv('Name_phy.csv')\n",
        "G = D.to_excel('Name_phy.xlsx')\n",
        "math = df[[\"Name\",\"Math\"]]\n",
        "H = math.to_excel('Name_Math.xlsx')\n",
        "I = math.to_csv('Name_Math.csv')\n",
        "Che = df[[\"Name\",\"Che\"]]\n",
        "K = Che.to_excel('Name_Che.xlsx')\n",
        "L = Che.to_csv('Name_Che.csv')\n",
        "Eng = df[[\"Name\",\"Eng\"]]\n",
        "N = Eng.to_excel('Name_Eng.xlsx')\n",
        "O = Eng.to_csv('Name_Eng.csv')\n",
        "Bio = df[[\"Name\",\"Bio\"]]\n",
        "Q = Bio.to_excel('Name_Bio.xlsx')\n",
        "R = Bio.to_csv('Name_Bio.csv')\n",
        "Tamil = df[[\"Name\",\"Tamil\"]]\n",
        "T = Tamil.to_excel('Name_Tamil.xlsx')\n",
        "U = Tamil.to_csv('Name_Tamil.csv')"
      ],
      "metadata": {
        "id": "iU79ho0NC_fw"
      },
      "execution_count": null,
      "outputs": []
    },
    {
      "cell_type": "code",
      "source": [
        "import pandas as pd\n",
        "\n",
        "df = pd.read_csv(\"customer_churn_data.csv\")\n",
        "#print(df)\n",
        "information=df.info()\n",
        "print(information)\n",
        "size=df.size\n",
        "print(\"Size = \",size)\n",
        "shape=df.shape\n",
        "print(\"Shape = \",shape)\n",
        "#col = df[[\"\"]]"
      ],
      "metadata": {
        "id": "tpWfUesaDBXS"
      },
      "execution_count": null,
      "outputs": []
    },
    {
      "cell_type": "code",
      "source": [
        "import pandas as pd\n",
        "\n",
        "df = pd.read_excel(\"bank_data.xlsx\")\n",
        "#print(df)\n",
        "#information=df.info()\n",
        "#print(information)\n",
        "size=df.size\n",
        "print(\"Size = \",size)\n",
        "shape=df.shape\n",
        "print(\"Shape = \",shape)"
      ],
      "metadata": {
        "id": "Y8ku-49wDC_Y"
      },
      "execution_count": null,
      "outputs": []
    },
    {
      "cell_type": "code",
      "source": [
        "import pandas as pd\n",
        "\n",
        "df = pd.read_excel(\"bodybuilding_data.xlsx\")\n",
        "#print(df)\n",
        "#information=df.info()\n",
        "#print(information)\n",
        "size=df.size\n",
        "print(\"Size = \",size)\n",
        "shape=df.shape\n",
        "print(\"Shape = \",shape)"
      ],
      "metadata": {
        "id": "7ES_BDqJDErY"
      },
      "execution_count": null,
      "outputs": []
    },
    {
      "cell_type": "code",
      "source": [
        "import pandas as pd\n",
        "\n",
        "df = pd.read_excel(\"car_sales_data.xlsx\")\n",
        "#print(df)\n",
        "#information=df.info()\n",
        "#print(information)\n",
        "size=df.size\n",
        "print(\"Size = \",size)\n",
        "shape=df.shape\n",
        "print(\"Shape = \",shape)"
      ],
      "metadata": {
        "id": "DJgvw_vtDGHo"
      },
      "execution_count": null,
      "outputs": []
    },
    {
      "cell_type": "code",
      "source": [
        "import pandas as pd\n",
        "\n",
        "df = pd.read_excel(\"cement_factory_data.xlsx\")\n",
        "#print(df)\n",
        "#information=df.info()\n",
        "#print(information)\n",
        "size=df.size\n",
        "print(\"Size = \",size)\n",
        "shape=df.shape\n",
        "print(\"Shape = \",shape)"
      ],
      "metadata": {
        "id": "8-1ILGJVDHrJ"
      },
      "execution_count": null,
      "outputs": []
    },
    {
      "cell_type": "code",
      "source": [
        "import pandas as pd\n",
        "\n",
        "df = pd.read_excel(\"cnc_machines_data.xlsx\")\n",
        "#print(df)\n",
        "#information=df.info()\n",
        "#print(information)\n",
        "size=df.size\n",
        "print(\"Size = \",size)\n",
        "shape=df.shape\n",
        "print(\"Shape = \",shape)"
      ],
      "metadata": {
        "id": "QaQAB51eDI5Q"
      },
      "execution_count": null,
      "outputs": []
    },
    {
      "cell_type": "code",
      "source": [
        "import pandas as pd\n",
        "\n",
        "df = pd.read_excel(\"cricket_players_data.xlsx\")\n",
        "#print(df)\n",
        "#information=df.info()\n",
        "#print(information)\n",
        "size=df.size\n",
        "print(\"Size = \",size)\n",
        "shape=df.shape\n",
        "print(\"Shape = \",shape)"
      ],
      "metadata": {
        "id": "jE5sX71ZDKxw"
      },
      "execution_count": null,
      "outputs": []
    },
    {
      "cell_type": "code",
      "source": [
        "import pandas as pd\n",
        "\n",
        "df = pd.read_csv(\"credit_scoring_data.csv\")\n",
        "#print(df)\n",
        "#information=df.info()\n",
        "#print(information)\n",
        "size=df.size\n",
        "print(\"Size = \",size)\n",
        "shape=df.shape\n",
        "print(\"Shape = \",shape)"
      ],
      "metadata": {
        "id": "2llj0rixDMXA"
      },
      "execution_count": null,
      "outputs": []
    },
    {
      "cell_type": "code",
      "source": [
        "import pandas as pd\n",
        "\n",
        "df = pd.read_csv(\"marketing_campaign_data.csv\")\n",
        "#print(df)\n",
        "#information=df.info()\n",
        "#print(information)\n",
        "size=df.size\n",
        "print(\"Size = \",size)\n",
        "shape=df.shape\n",
        "print(\"Shape = \",shape)"
      ],
      "metadata": {
        "id": "vEL-7S5qDNjw"
      },
      "execution_count": null,
      "outputs": []
    },
    {
      "cell_type": "code",
      "source": [
        "import pandas as pd\n",
        "\n",
        "df = pd.read_csv(\"spam_detection_data.csv\")\n",
        "#print(df)\n",
        "#information=df.info()\n",
        "#print(information)\n",
        "size=df.size\n",
        "print(\"Size = \",size)\n",
        "shape=df.shape\n",
        "print(\"Shape = \",shape)"
      ],
      "metadata": {
        "id": "ErKaRSjXDO9J"
      },
      "execution_count": null,
      "outputs": []
    },
    {
      "cell_type": "code",
      "source": [
        "import pandas as pd\n",
        "\n",
        "df = pd.read_excel(\"mark.xlsx\")\n",
        "\n",
        "location =df.loc[[0, 1]]\n",
        "print(location)\n",
        "D = location.to_excel(\"Location.xlsx\")\n",
        "E = location.to_csv(\"Location.csv\")\n"
      ],
      "metadata": {
        "id": "hkMqr6NRDQFg"
      },
      "execution_count": null,
      "outputs": []
    },
    {
      "cell_type": "code",
      "source": [
        "import pandas as pd\n",
        "\n",
        "df = pd.read_excel(\"mark.xlsx\")\n",
        "\n",
        "location1 =df.loc[[5,0, 1]]\n",
        "print(location1)\n",
        "D = location1.to_excel(\"Location1.xlsx\")\n",
        "E = location1.to_csv(\"Location1.csv\")"
      ],
      "metadata": {
        "id": "axUFElwMDRPp"
      },
      "execution_count": null,
      "outputs": []
    },
    {
      "cell_type": "code",
      "source": [
        "df = pd.read_excel(\"mark.xlsx\")\n",
        "selected_rows = df.iloc[1:4]\n",
        "print(selected_rows)\n",
        "D = selected_rows.to_csv(\"Selected_Row.csv\")"
      ],
      "metadata": {
        "id": "O4O0IggMDSuI"
      },
      "execution_count": null,
      "outputs": []
    },
    {
      "cell_type": "code",
      "source": [
        "df = pd.read_excel(\"mark.xlsx\")\n",
        "#selected_rows1 = df.iloc[:4]\n",
        "#print(selected_rows1)\n",
        "#D = selected_rows1.to_excel(\"Rows1.xlsx\")\n",
        "h=df.head(2)\n",
        "t=df.tail(4)\n",
        "print(h)\n",
        "print(t)"
      ],
      "metadata": {
        "id": "L5Y_PbINDUrZ"
      },
      "execution_count": null,
      "outputs": []
    },
    {
      "cell_type": "code",
      "source": [
        "df = pd.read_excel(\"mark.xlsx\")\n",
        "#selected_rows2 = df.iloc[10:]\n",
        "#print(selected_rows2)\n",
        "#D = selected_rows2.to_csv(\"Rows2.csv\")\n",
        "h=df.head(4)\n",
        "t=df.tail(4)\n",
        "print(h)\n",
        "print(t)"
      ],
      "metadata": {
        "id": "2_8jI2TJDWUZ"
      },
      "execution_count": null,
      "outputs": []
    },
    {
      "cell_type": "code",
      "source": [
        "df = pd.read_excel(\"mark.xlsx\")\n",
        "sort=df.sort_values(by=[\"Math\"])\n",
        "print(sort)\n"
      ],
      "metadata": {
        "id": "saVioiU4DXpw"
      },
      "execution_count": null,
      "outputs": []
    },
    {
      "cell_type": "code",
      "source": [
        "df = pd.read_excel(\"mark.xlsx\")\n",
        "\n",
        "dsort=df.sort_values(by='Math', ascending=False)\n",
        "print(dsort)"
      ],
      "metadata": {
        "id": "DBx1rIJCDZF4"
      },
      "execution_count": null,
      "outputs": []
    },
    {
      "cell_type": "code",
      "source": [
        "import pandas as pd\n",
        "df = pd.read_excel(\"mark.xlsx\")\n",
        "\n",
        "replace = df.replace(60,35)\n",
        "print(replace)"
      ],
      "metadata": {
        "id": "_DvIeIAbDaSn"
      },
      "execution_count": null,
      "outputs": []
    },
    {
      "cell_type": "code",
      "source": [
        "import pandas as pd\n",
        "df = pd.read_excel(\"mark.xlsx\")\n",
        "df1 = df[[\"Math\",\"Phy\",\"Che\",\"Eng\",\"Bio\",\"Tamil\"]]\n",
        "Sum = df1.sum()\n",
        "print(Sum)"
      ],
      "metadata": {
        "id": "s8uFnWrgDbkw"
      },
      "execution_count": null,
      "outputs": []
    },
    {
      "cell_type": "code",
      "source": [
        "import pandas as pd\n",
        "df = pd.read_excel(\"mark.xlsx\")\n",
        "df1 = df[[\"Math\",\"Phy\",\"Che\",\"Eng\",\"Bio\",\"Tamil\"]]\n",
        "Min = df1.min()\n",
        "print(Min)"
      ],
      "metadata": {
        "id": "lL7HNqqpDcrA"
      },
      "execution_count": null,
      "outputs": []
    },
    {
      "cell_type": "code",
      "source": [
        "import pandas as pd\n",
        "df = pd.read_excel(\"mark.xlsx\")\n",
        "df1 = df[[\"Math\",\"Phy\",\"Che\",\"Eng\",\"Bio\",\"Tamil\"]]\n",
        "Max = df1.max()\n",
        "print(Max)"
      ],
      "metadata": {
        "id": "u6AYiytXDeag"
      },
      "execution_count": null,
      "outputs": []
    },
    {
      "cell_type": "code",
      "source": [
        "import pandas as pd\n",
        "df = pd.read_excel(\"mark.xlsx\")\n",
        "df1 = df[[\"Math\",\"Phy\",\"Che\",\"Eng\",\"Bio\",\"Tamil\"]]\n",
        "Mean = df1.mean()\n",
        "print(Mean)"
      ],
      "metadata": {
        "id": "5lxQe8UIDfvJ"
      },
      "execution_count": null,
      "outputs": []
    },
    {
      "cell_type": "code",
      "source": [
        "import pandas as pd\n",
        "df = pd.read_excel(\"mark.xlsx\")\n",
        "df1 = df[[\"Math\",\"Phy\",\"Che\",\"Eng\",\"Bio\",\"Tamil\"]]\n",
        "Mean = df1.mean()\n",
        "Round = Mean.round()\n",
        "print(Round)"
      ],
      "metadata": {
        "id": "ppUVi_XLDhQI"
      },
      "execution_count": null,
      "outputs": []
    },
    {
      "cell_type": "code",
      "source": [
        "import pandas as pd\n",
        "df = pd.read_excel(\"mark.xlsx\")\n",
        "df.rename(columns={'Math': 'M','Phy':'P'}, inplace=True)\n",
        "h=df.head(1)\n",
        "print(h)"
      ],
      "metadata": {
        "id": "NbFYq0BvDich"
      },
      "execution_count": null,
      "outputs": []
    },
    {
      "cell_type": "code",
      "source": [
        "import pandas as pd\n",
        "df = pd.read_excel(\"sales11.xlsx\")\n",
        "Size = df.size\n",
        "print(\"\\nSize = \",Size)\n",
        "Shape = df.shape\n",
        "print(\"\\nShape = \",Shape)\n",
        "Information = df.info\n",
        "print(Information)\n",
        "#Low quantity\n",
        "OrderbyQuantity = df.sort_values(by=[\"Quantity\"])\n",
        "#print(OrderbyQuantity)\n",
        "F = OrderbyQuantity.to_excel(\"order_by_Quantity2.xlsx\")\n",
        "G = OrderbyQuantity.to_csv(\"order_by_Quantity2.csv\")\n",
        "#High quantity\n",
        "Orderbyquantity = df.sort_values(by='Quantity', ascending=False)\n",
        "H = OrderbyQuantity.to_excel(\"order_by_Highquantity.xlsx\")\n",
        "I = OrderbyQuantity.to_csv(\"order_by_Highquantity.csv\")\n",
        "df.rename(columns={\"Profit_percentage\":\"Profit\"}, inplace=True)\n",
        "#High profit\n",
        "OrderbyProfit = df.sort_values(by='Profit', ascending=False)\n",
        "J = OrderbyProfit.to_excel(\"order_by_HighProfit.xlsx\")\n",
        "K = OrderbyProfit.to_csv(\"order_by_HighProfit.csv\")\n",
        "#Low profit\n",
        "Orderbyprofit = df.sort_values(by=[\"Profit\"])\n",
        "J = Orderbyprofit.to_excel(\"order_by_profit.xlsx\")\n",
        "K = Orderbyprofit.to_csv(\"order_by_profit.csv\")\n",
        "#Low feedback star\n",
        "D =  df.sort_values(by=[\"Feedbackstar\"])\n",
        "J = D.to_excel(\"Feedback_star.xlsx\")\n",
        "K = D.to_csv(\"Feedback_star.csv\")\n",
        "#High feedback star\n",
        "L =  df.sort_values(by='Feedbackstar', ascending = False)\n",
        "M = D.to_excel(\"Feedback_High.xlsx\")\n",
        "N = D.to_csv(\"Feedback_High.csv\")\n",
        "#Low Advertisement star\n",
        "O =  df.sort_values(by=[\"Advertisementstar\"])\n",
        "P = D.to_excel(\"Advertisementstar_Low.xlsx\")\n",
        "Q = D.to_csv(\"Advertisementstar_Low.csv\")\n",
        "\n"
      ],
      "metadata": {
        "id": "nXMaD7CvDjpg"
      },
      "execution_count": null,
      "outputs": []
    },
    {
      "cell_type": "code",
      "source": [
        "#Average profit percentage\n",
        "import pandas as pd\n",
        "df = pd.read_excel(\"sales11.xlsx\")\n",
        "\n",
        "R = df[[\"Profit_percentage\"]]\n",
        "S = R.mean()\n",
        "print(S)"
      ],
      "metadata": {
        "id": "l8ll47lcDk-Y"
      },
      "execution_count": null,
      "outputs": []
    },
    {
      "cell_type": "code",
      "source": [
        "import pandas as pd\n",
        "df = pd.read_excel(\"sales11.xlsx\")\n",
        "A = df[[\"Feedbackstar\"]]\n",
        "B = A.mean()\n",
        "print(B)"
      ],
      "metadata": {
        "id": "sg97HscBDmuY"
      },
      "execution_count": null,
      "outputs": []
    },
    {
      "cell_type": "code",
      "source": [
        "import pandas as pd\n",
        "df = pd.read_excel(\"sales11.xlsx\")\n",
        "A =  df[[\"Advertisementstar\"]]\n",
        "B = A.mean()\n",
        "print(B)"
      ],
      "metadata": {
        "id": "o3YvW7xXDn9Q"
      },
      "execution_count": null,
      "outputs": []
    },
    {
      "cell_type": "code",
      "source": [
        "import pandas as pd\n",
        "df = pd.read_excel(\"sales11.xlsx\")\n",
        "A =  df[[\"Advertisementstar\"]]\n",
        "B = A.max()\n",
        "print(B)"
      ],
      "metadata": {
        "id": "8s3xdmK6DpQg"
      },
      "execution_count": null,
      "outputs": []
    },
    {
      "cell_type": "code",
      "source": [
        "import pandas as pd\n",
        "df = pd.read_excel(\"sales11.xlsx\")\n",
        "A =  df[[\"Advertisementstar\"]]\n",
        "B = A.min()\n",
        "print(B)"
      ],
      "metadata": {
        "id": "RtQ09fHvDrAZ"
      },
      "execution_count": null,
      "outputs": []
    },
    {
      "cell_type": "code",
      "source": [
        "import pandas as pd\n",
        "df = pd.read_excel(\"sales11.xlsx\")\n",
        "A =  df[[\"Profit_percentage\"]]\n",
        "B = A.max()\n",
        "print(B)"
      ],
      "metadata": {
        "id": "O-tToTk4DsoJ"
      },
      "execution_count": null,
      "outputs": []
    },
    {
      "cell_type": "code",
      "source": [
        "import pandas as pd\n",
        "df = pd.read_excel(\"sales11.xlsx\")\n",
        "A =  df[[\"Profit_percentage\"]]\n",
        "B = A.min()\n",
        "print(B)"
      ],
      "metadata": {
        "id": "G5DjF77oDt3c"
      },
      "execution_count": null,
      "outputs": []
    },
    {
      "cell_type": "code",
      "source": [
        "import pandas as pd\n",
        "df = pd.read_excel(\"sales11.xlsx\")\n",
        "OrderbyQuantity = df.sort_values(by=[\"Quantity\"])\n",
        "A = OrderbyQuantity.head(10)\n",
        "B = OrderbyQuantity.tail(10)\n",
        "D = A.to_excel(\"order_by_Quantity1.xlsx\")\n",
        "E = A.to_csv(\"order_by_Quantity1.csv\")\n",
        "F = B.to_excel(\"order_by_Quantity.xlsx\")\n",
        "G = B.to_csv(\"order_by_Quantity.csv\")\n",
        "#df.rename(columns={\"Profit_percentage\":\"Profit\"}, inplace=True)\n",
        "#OrderbyProfit = df.sort_values(by='Profit', ascending=False)\n",
        "#C = OrderbyProfit.head(10)\n",
        "#D = OrderbyProfit.tail(10)\n",
        "#J = C.to_excel(\"order_by_HighProfit1.xlsx\")\n",
        "#K = D.to_csv(\"order_by_HighProfit1.csv\")\n"
      ],
      "metadata": {
        "id": "2rOX3phcDvqw"
      },
      "execution_count": null,
      "outputs": []
    },
    {
      "cell_type": "code",
      "source": [
        "import pandas as pd\n",
        "df = pd.read_excel(\"sales11.xlsx\")\n",
        "df.rename(columns={\"Profit_percentage\":\"Profit\"}, inplace=True)\n",
        "OrderbyProfit = df.sort_values(by='Profit', ascending=False)\n",
        "C = OrderbyProfit.head(10)\n",
        "D = OrderbyProfit.tail(10)\n",
        "J = C.to_excel(\"order_by_HighProfit1.xlsx\")\n",
        "K = D.to_csv(\"order_by_HighProfit1.csv\")\n"
      ],
      "metadata": {
        "id": "dBVX_UdnDxcI"
      },
      "execution_count": null,
      "outputs": []
    },
    {
      "cell_type": "code",
      "source": [
        "import pandas as pd\n",
        "df = pd.read_excel(\"sales11.xlsx\")\n",
        "Size = df.size\n",
        "print(\"\\nSize = \",Size)\n",
        "\n",
        "\n"
      ],
      "metadata": {
        "id": "-nkH3UVoDy74"
      },
      "execution_count": null,
      "outputs": []
    },
    {
      "cell_type": "code",
      "source": [
        "import pandas as pd\n",
        "df = pd.read_excel(\"sales11.xlsx\")\n",
        "Shape = df.shape\n",
        "print(\"\\nShape = \",Shape)"
      ],
      "metadata": {
        "id": "onZ00SAcD0FY"
      },
      "execution_count": null,
      "outputs": []
    },
    {
      "cell_type": "code",
      "source": [
        "import pandas as pd\n",
        "df = pd.read_excel(\"sales11.xlsx\")\n",
        "Information = df.info()\n",
        "print(Information)"
      ],
      "metadata": {
        "id": "6Kf3zp3yD1uR"
      },
      "execution_count": null,
      "outputs": []
    },
    {
      "cell_type": "code",
      "source": [
        "#Low quantity\n",
        "import pandas as pd\n",
        "df = pd.read_excel(\"sales11.xlsx\")\n",
        "OrderbyQuantity = df.sort_values(by=[\"Quantity\"])\n",
        "#print(OrderbyQuantity)\n",
        "F = OrderbyQuantity.to_excel(\"order_by_Quantity2.xlsx\")\n",
        "G = OrderbyQuantity.to_csv(\"order_by_Quantity2.csv\")"
      ],
      "metadata": {
        "id": "3QsO6lk2D2-4"
      },
      "execution_count": null,
      "outputs": []
    },
    {
      "cell_type": "code",
      "source": [
        "#High quantity\n",
        "import pandas as pd\n",
        "df = pd.read_excel(\"sales11.xlsx\")\n",
        "Orderbyquantity = df.sort_values(by='Quantity', ascending=False)\n",
        "H = OrderbyQuantity.to_excel(\"order_by_Highquantity.xlsx\")\n",
        "I = OrderbyQuantity.to_csv(\"order_by_Highquantity.csv\")"
      ],
      "metadata": {
        "id": "j3ogLxqlD4mw"
      },
      "execution_count": null,
      "outputs": []
    },
    {
      "cell_type": "code",
      "source": [
        "#High profit\n",
        "import pandas as pd\n",
        "df = pd.read_excel(\"sales11.xlsx\")\n",
        "df.rename(columns={\"Profit_percentage\":\"Profit\"}, inplace=True)\n",
        "OrderbyProfit = df.sort_values(by='Profit', ascending=False)\n",
        "J = OrderbyProfit.to_excel(\"order_by_HighProfit.xlsx\")\n",
        "K = OrderbyProfit.to_csv(\"order_by_HighProfit.csv\")"
      ],
      "metadata": {
        "id": "aoJVIlB8D53Q"
      },
      "execution_count": null,
      "outputs": []
    },
    {
      "cell_type": "code",
      "source": [
        "#Low profit\n",
        "import pandas as pd\n",
        "df = pd.read_excel(\"sales11.xlsx\")\n",
        "df.rename(columns={\"Profit_percentage\":\"Profit\"}, inplace=True)\n",
        "Orderbyprofit = df.sort_values(by=[\"Profit\"])\n",
        "J = Orderbyprofit.to_excel(\"order_by_profit.xlsx\")\n",
        "K = Orderbyprofit.to_csv(\"order_by_profit.csv\")"
      ],
      "metadata": {
        "id": "EsXsQWw2D7FB"
      },
      "execution_count": null,
      "outputs": []
    },
    {
      "cell_type": "code",
      "source": [
        "#Low feedback star\n",
        "import pandas as pd\n",
        "df = pd.read_excel(\"sales11.xlsx\")\n",
        "D =  df.sort_values(by=[\"Feedbackstar\"])\n",
        "J = D.to_excel(\"Feedback_star.xlsx\")\n",
        "K = D.to_csv(\"Feedback_star.csv\")"
      ],
      "metadata": {
        "id": "tbXs7dDiD8nw"
      },
      "execution_count": null,
      "outputs": []
    },
    {
      "cell_type": "code",
      "source": [
        "#High feedback star\n",
        "import pandas as pd\n",
        "df = pd.read_excel(\"sales11.xlsx\")\n",
        "L =  df.sort_values(by='Feedbackstar', ascending = False)\n",
        "M = D.to_excel(\"Feedback_High.xlsx\")\n",
        "N = D.to_csv(\"Feedback_High.csv\")"
      ],
      "metadata": {
        "id": "DQZbVBZVD96w"
      },
      "execution_count": null,
      "outputs": []
    },
    {
      "cell_type": "code",
      "source": [
        "#Low Advertisement star\n",
        "import pandas as pd\n",
        "df = pd.read_excel(\"sales11.xlsx\")\n",
        "O =  df.sort_values(by=[\"Advertisementstar\"])\n",
        "P = D.to_excel(\"Advertisementstar_Low.xlsx\")\n",
        "Q = D.to_csv(\"Advertisementstar_Low.csv\")"
      ],
      "metadata": {
        "id": "oFGsfLGqD_UZ"
      },
      "execution_count": null,
      "outputs": []
    },
    {
      "cell_type": "code",
      "source": [
        "import numpy as np\n",
        "import pandas as pd\n",
        "df = pd.read_excel(\"mark.xlsx\")\n",
        "aarM = df[['Math']].to_numpy().flatten()\n",
        "M = aarM+5\n",
        "arrN=df[['Name']].to_numpy().flatten()\n",
        "aarP = df[['Phy']].to_numpy().flatten()\n",
        "P = aarP+5\n",
        "aarC = df[['Che']].to_numpy().flatten()\n",
        "C = aarC+5\n",
        "aarB = df[['Bio']].to_numpy().flatten()\n",
        "B = aarB+5\n",
        "aarT = df[['Tamil']].to_numpy().flatten()\n",
        "T = aarT+5\n",
        "Total = M+P+C+B+T\n",
        "Frame = {\"Name\":arrN, \"Math +\":M, \"Phy+\":P, \"Che+\":C,\"Bio+\":B,\"Tamil+\":T,\"Total\":Total}\n",
        "Z = pd.DataFrame(Frame)\n",
        "print(Z)\n",
        "Marksheet = Z.to_excel(\"Mark_Sheet.xlsx\")\n",
        "Marksheet1 = Z.to_csv(\"Mark_Sheet.csv\")"
      ],
      "metadata": {
        "id": "l4yF6cZuEAiw"
      },
      "execution_count": null,
      "outputs": []
    },
    {
      "cell_type": "code",
      "source": [
        "import numpy as np\n",
        "import pandas as pd\n",
        "\n",
        "A = pd.read_excel(\"income.xlsx\")\n",
        "B = A.info()\n",
        "print(B)\n",
        "C = A [[\"Month\"]].to_numpy().flatten()\n",
        "\n",
        "D = A [[\"Income\"]].to_numpy().flatten()\n",
        "\n",
        "E = A [[\"Expense\"]].to_numpy().flatten()\n",
        "\n",
        "F = A [[\"Others\"]].to_numpy().flatten()\n",
        "\n",
        "G = D-E-F\n",
        "\n",
        "Frame = {\"Month\":C,\"Income\":D,\"Expense\":E,\"Others\":F,\"Savings\":G}\n",
        "H = pd.DataFrame(Frame)\n",
        "print(H)\n",
        "I = H.to_excel(\"Saving.xlsx\")"
      ],
      "metadata": {
        "id": "IlGK0-2YEBs5"
      },
      "execution_count": null,
      "outputs": []
    },
    {
      "cell_type": "code",
      "source": [
        "import numpy as np\n",
        "import pandas as pd\n",
        "\n",
        "A = pd.read_excel(\"bank_data.xlsx\")\n",
        "B = A.info()\n",
        "C = A[[\"Customer_ID\"]].to_numpy().flatten()\n",
        "D = A[[\"Bank_Balance\"]].to_numpy().flatten()\n",
        "E = D/100*10\n",
        "#print(E)\n",
        "F = D+E\n",
        "#print(F)\n",
        "Frame = {\"Customer_ID\":C,\"Bank_Balance\":D,\"Interest\":E,\"Balance_After_Interest\":F}\n",
        "G = pd.DataFrame(Frame)\n",
        "print(G.head())\n",
        "H = G.to_excel(\"Interest.xlsx\")"
      ],
      "metadata": {
        "id": "yKA0sh5cEhYo"
      },
      "execution_count": null,
      "outputs": []
    },
    {
      "cell_type": "code",
      "source": [
        "#Explain numpy to pandas with a program\n",
        "\n",
        "import numpy as np\n",
        "import pandas as pd\n",
        "A = np.array([45,50,12,60,77])\n",
        "B = np.array([50,75,25,50,65])\n",
        "C = np.array([12,45,75,25,62])\n",
        "D = np.array([\"Sam\",\"Abi\",\"Dev\",\"Sathya\",\"Ben\"])\n",
        "Frame = {\"Name\":D,\"Math\":A,\"Bio\":B,\"Che\":C}\n",
        "F = pd.DataFrame(Frame)\n",
        "print(F)"
      ],
      "metadata": {
        "id": "eoha-hSMEkLY"
      },
      "execution_count": null,
      "outputs": []
    },
    {
      "cell_type": "code",
      "source": [
        "#Explain pandas to numpy with a program\n",
        "\n",
        "import numpy as np\n",
        "import pandas as pd\n",
        "A = pd.read_excel(\"sales11.xlsx\")\n",
        "B = A[['StoreID']].to_numpy().flatten()\n",
        "print(B)"
      ],
      "metadata": {
        "id": "DAVPsjHbFuRB"
      },
      "execution_count": null,
      "outputs": []
    },
    {
      "cell_type": "code",
      "source": [
        "#Explain pandas to excel with a program\n",
        "#Explain pandas to csv with a program\n",
        "\n",
        "import numpy as np\n",
        "import pandas as pd\n",
        "A = np.array([45,50,12,60,77])\n",
        "B = np.array([50,75,25,50,65])\n",
        "C = np.array([12,45,75,25,62])\n",
        "D = np.array([\"Sam\",\"Abi\",\"Dev\",\"Sathya\",\"Ben\"])\n",
        "Frame = {\"Name\":D,\"Math\":A,\"Bio\":B,\"Che\":C}\n",
        "F = pd.DataFrame(Frame)\n",
        "G = F.to_excel(\"Internal.xlsx\")\n",
        "H = F.to_csv(\"internal.csv\")"
      ],
      "metadata": {
        "id": "mzNQVdadFwpi"
      },
      "execution_count": null,
      "outputs": []
    },
    {
      "cell_type": "code",
      "source": [
        "#Explain excel to pandas with a program\n",
        "\n",
        "import numpy as np\n",
        "import pandas as pd\n",
        "A = pd.read_excel(\"Internal.xlsx\")\n",
        "print(A)"
      ],
      "metadata": {
        "id": "KFWzqyzhFzvA"
      },
      "execution_count": null,
      "outputs": []
    },
    {
      "cell_type": "code",
      "source": [
        "#Explain CSV to pandas with a program\n",
        "\n",
        "import numpy as np\n",
        "import pandas as pd\n",
        "A = pd.read_csv(\"internal.csv\")\n",
        "print(A)"
      ],
      "metadata": {
        "id": "ewfG8tUmF4Rh"
      },
      "execution_count": null,
      "outputs": []
    },
    {
      "cell_type": "code",
      "source": [
        "#14.CSV to pandas to numpy implement any formula to Excel\n",
        "import numpy as np\n",
        "import pandas as pd\n",
        "A = pd.read_csv('internal.csv')\n",
        "#Z = A.info()\n",
        "\n",
        "B = A[['Name']].to_numpy().flatten()\n",
        "C = A[['Math']].to_numpy().flatten()\n",
        "D = A[['Bio']].to_numpy().flatten()\n",
        "E = A[['Che']].to_numpy().flatten()\n",
        "F = C+D+E\n",
        "Frame = {\"Name\":B,\"Math\":C,\"Bio\":D,\"Che\":E,\"Total\":F}\n",
        "G = pd.DataFrame(Frame)\n",
        "H = G.to_excel('Total.xlsx')"
      ],
      "metadata": {
        "id": "fV17PvEnF6WA"
      },
      "execution_count": null,
      "outputs": []
    },
    {
      "cell_type": "code",
      "source": [
        "import sqlite3 as db\n",
        "import pandas as pd\n",
        "\n",
        "def I():\n",
        "  A = pd.read_csv('credit_scoring_data.csv')\n",
        "  B = A.info()\n",
        "  C = A[['Income']].to_numpy().flatten()\n",
        "  D = A[['Loan Amount']].to_numpy().flatten()\n",
        "  E = A[['Credit Score']].to_numpy().flatten()\n",
        "  F = A[['Interest Rate (%)']].to_numpy().flatten()\n",
        "  G = C-D\n",
        "  H = C/100*F\n",
        "  Frame = {\"Income\":C,\"Loan Amount\":D,\"Credit Score\":E,\"Interest Rate\":F,\"Balance\":G,\"Interest\":H}\n",
        "  I = pd.DataFrame(Frame)\n",
        "  I.to_excel('Income.xlsx')\n",
        "  database = \"income.sqlite\"\n",
        "  conn = db.connect(database)\n",
        "  I.to_sql(name = 'Income',con=conn,if_exists='replace',index=False)\n",
        "  conn.close()\n",
        "  print(I)\n",
        "  return I\n",
        "\n",
        "user_id = \"gokul\"\n",
        "password = \"gokul\"\n",
        "\n",
        "input_user_id = input(\"Enter User ID: \")\n",
        "input_password = input(\"Enter Password: \")\n",
        "\n",
        "if input_user_id == user_id and input_password == password:\n",
        "  L = I()\n",
        "\n",
        "else:\n",
        "  print(\"User Id does not exist\")"
      ],
      "metadata": {
        "id": "cloaSRZmIB7I"
      },
      "execution_count": null,
      "outputs": []
    },
    {
      "cell_type": "code",
      "source": [
        "import numpy as np\n",
        "import pandas as pd\n",
        "import sqlite3 as db\n",
        "\n",
        "def Z():\n",
        "  A = pd.read_csv(\"credit_scoring_data.csv\")\n",
        "  B = A[['Income']].to_numpy().flatten()\n",
        "  C = A[['Loan Amount']].to_numpy().flatten()\n",
        "  D = A[['Interest Rate (%)']].to_numpy().flatten()\n",
        "  E = B-C\n",
        "  F = B/100*D\n",
        "  G = D+5\n",
        "  H = B/100*G\n",
        "  I = C+H\n",
        "  Frame = {\"Income\":B,\"Loan Amount\":C,\"Interest Rate\":D,\"Balance\":E,\"Interest Amount\":F,\"Increased Interest %\":G,\"Increased Interest Amount\":H,\"Increased Loan Amount\":I}\n",
        "  J = pd.DataFrame(Frame)\n",
        "  J.to_excel('credit.xlsx')\n",
        "  print(J)\n",
        "  return J\n",
        "user_id = \"gokul\"\n",
        "password = \"gokul\"\n",
        "\n",
        "input_user_id = input(\"Enter User ID: \")\n",
        "input_password = input(\"Enter Password: \")\n",
        "\n",
        "if input_user_id == user_id and input_password == password:\n",
        "  L = I()\n",
        "\n",
        "else:\n",
        "  print(\"User Id does not exist\")"
      ],
      "metadata": {
        "id": "REAjiN_3IFII"
      },
      "execution_count": null,
      "outputs": []
    }
  ]
}